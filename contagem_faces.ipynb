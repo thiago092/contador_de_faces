{
 "cells": [
  {
   "cell_type": "code",
   "execution_count": 4,
   "metadata": {},
   "outputs": [
    {
     "name": "stdout",
     "output_type": "stream",
     "text": [
      "Requirement already satisfied: opencv-python in c:\\users\\bidu_\\anaconda3\\lib\\site-packages (4.1.0.25)\n",
      "Requirement already satisfied: numpy>=1.14.5 in c:\\users\\bidu_\\anaconda3\\lib\\site-packages (from opencv-python) (1.16.2)\n"
     ]
    }
   ],
   "source": [
    "#baseado https://docs.opencv.org/3.4.1/d7/d8b/tutorial_py_face_detection.html\n",
    "\n",
    "!pip install opencv-python\n",
    "\n",
    "import cv2\n",
    "import sys\n",
    "import datetime as dt\n",
    "from time import sleep\n",
    "\n",
    "cascPath = \"haarcascade_frontalface_default.xml\"\n",
    "faceCascade = cv2.CascadeClassifier(cascPath)\n",
    "video_capture = cv2.VideoCapture(0)\n",
    "anterior = 0\n",
    "\n"
   ]
  },
  {
   "cell_type": "code",
   "execution_count": 3,
   "metadata": {},
   "outputs": [
    {
     "name": "stdout",
     "output_type": "stream",
     "text": [
      "Quantidade De dazes Encontradas: 1 Saída 2019-09-09 08:30:19.286379\n",
      "Quantidade De dazes Encontradas: 0 Saída 2019-09-09 08:30:29.766646\n",
      "Quantidade De dazes Encontradas: 1 Saída 2019-09-09 08:30:31.354869\n",
      "Quantidade De dazes Encontradas: 0 Saída 2019-09-09 08:30:31.666198\n",
      "Quantidade De dazes Encontradas: 1 Saída 2019-09-09 08:30:31.762955\n",
      "Quantidade De dazes Encontradas: 2 Saída 2019-09-09 08:30:31.881270\n",
      "Quantidade De dazes Encontradas: 1 Saída 2019-09-09 08:30:31.971009\n",
      "Quantidade De dazes Encontradas: 3 Saída 2019-09-09 08:30:32.070774\n",
      "Quantidade De dazes Encontradas: 1 Saída 2019-09-09 08:30:32.154998\n",
      "Quantidade De dazes Encontradas: 2 Saída 2019-09-09 08:31:00.597621\n",
      "Quantidade De dazes Encontradas: 1 Saída 2019-09-09 08:31:00.689866\n",
      "Quantidade De dazes Encontradas: 2 Saída 2019-09-09 08:31:12.592631\n",
      "Quantidade De dazes Encontradas: 1 Saída 2019-09-09 08:31:12.674849\n"
     ]
    },
   
   ],
   "source": [
    "while True:\n",
    "    if not video_capture.isOpened():\n",
    "        print('Camera ativa')\n",
    "        sleep(5)\n",
    "        pass\n",
    "\n",
    "    # faz a captura frame a frame \n",
    "    ret, frame = video_capture.read()\n",
    "\n",
    "    gray = cv2.cvtColor(frame, cv2.COLOR_BGR2GRAY)\n",
    "\n",
    "    faces = faceCascade.detectMultiScale(\n",
    "        gray,\n",
    "        scaleFactor=1.1,\n",
    "        minNeighbors=5,\n",
    "        minSize=(30, 30)\n",
    "    )\n",
    "\n",
    "    # Desenha o retangulo em volta da face\n",
    "    for (x, y, w, h) in faces:\n",
    "        cv2.rectangle(frame, (x, y), (x+w, y+h), (0, 255, 0), 2)\n",
    "\n",
    "    if anterior != len(faces):\n",
    "        anterior = len(faces)\n",
    "        print(\"Quantidade De dazes Encontradas: \"+str(len(faces))+\" Saída \"+str(dt.datetime.now()))\n",
    "\n",
    "\n",
    "    # Abre o display com reultado\n",
    "    cv2.imshow('Video', frame)\n",
    "\n",
    "    #espera o comando do teclado para parar a execução\n",
    "    if cv2.waitKey(1) & 0xFF == ord('p'):\n",
    "        break\n",
    "        \n",
    "    cv2.imshow('Video', frame)\n",
    "\n"
   ]
  },
  {
   "cell_type": "code",
   "execution_count": null,
   "metadata": {},
   "outputs": [],
   "source": [
    "# When everything is done, release the capture\n",
    "video_capture.release()\n",
    "cv2.destroyAllWindows()"
   ]
  },
  {
   "cell_type": "code",
   "execution_count": null,
   "metadata": {},
   "outputs": [],
   "source": []
  }
 ],
 "metadata": {
  "kernelspec": {
   "display_name": "Python 3",
   "language": "python",
   "name": "python3"
  },
  "language_info": {
   "codemirror_mode": {
    "name": "ipython",
    "version": 3
   },
   "file_extension": ".py",
   "mimetype": "text/x-python",
   "name": "python",
   "nbconvert_exporter": "python",
   "pygments_lexer": "ipython3",
   "version": "3.7.3"
  }
 },
 "nbformat": 4,
 "nbformat_minor": 2
}
